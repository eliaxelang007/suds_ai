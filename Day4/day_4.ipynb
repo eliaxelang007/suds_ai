{
 "cells": [
  {
   "cell_type": "code",
   "execution_count": 6,
   "metadata": {},
   "outputs": [
    {
     "name": "stdout",
     "output_type": "stream",
     "text": [
      "Note: you may need to restart the kernel to use updated packages.\n",
      "Note: you may need to restart the kernel to use updated packages.\n",
      "Note: you may need to restart the kernel to use updated packages.\n",
      "Note: you may need to restart the kernel to use updated packages.\n",
      "Note: you may need to restart the kernel to use updated packages.\n"
     ]
    }
   ],
   "source": [
    "# Installations\n",
    "\n",
    "%pip install --upgrade pip -q\n",
    "%pip install python-dotenv -q\n",
    "\n",
    "%pip install langchain langchain-core langchain-community langchain-openai -q\n",
    "\n",
    "%pip install qdrant-client -q\n",
    "%pip install tiktoken pymupdf -q"
   ]
  },
  {
   "cell_type": "code",
   "execution_count": 11,
   "metadata": {},
   "outputs": [],
   "source": [
    "from dotenv import dotenv_values\n",
    "\n",
    "environment_secrets = dotenv_values(\"../.env\")"
   ]
  },
  {
   "cell_type": "code",
   "execution_count": 12,
   "metadata": {},
   "outputs": [],
   "source": [
    "\n",
    "from langchain_openai import ChatOpenAI\n",
    "from pydantic.v1 import SecretStr\n",
    "\n",
    "openai_api_key = environment_secrets[\"OPENAI_API_KEY\"]\n",
    "\n",
    "assert openai_api_key != None, \"OpenAI Api Key not found!\"\n",
    "\n",
    "openai_client = ChatOpenAI(\n",
    "    api_key=SecretStr(openai_api_key)\n",
    ")"
   ]
  },
  {
   "cell_type": "code",
   "execution_count": 8,
   "metadata": {},
   "outputs": [],
   "source": [
    "from langsmith import Client\n",
    "\n",
    "langsmith_client = Client(api_key=environment_secrets[\"LANGSMITH_API_KEY\"])"
   ]
  },
  {
   "cell_type": "code",
   "execution_count": 9,
   "metadata": {},
   "outputs": [],
   "source": [
    "from langchain.prompts import ChatPromptTemplate\n",
    "from langchain.document_loaders import PyMuPDFLoader\n",
    "from langchain_text_splitters import RecursiveCharacterTextSplitter\n",
    "from langchain_community.vectorstores import Qdrant\n",
    "from langchain_openai import OpenAIEmbeddings\n",
    "from langchain.schema.runnable import RunnableParallel\n",
    "\n",
    "from operator import itemgetter\n",
    "\n",
    "from tiktoken import encoding_for_model\n",
    "\n",
    "def main():\n",
    "\tembedding_model = OpenAIEmbeddings(model=\"text-embedding-3-small\")\n",
    "\tgpt_3_4_turbo_encoding = encoding_for_model(\"gpt-3.5-turbo\")\n",
    "\n",
    "\tdef token_len(text: str) -> int:\n",
    "\t\treturn len(gpt_3_4_turbo_encoding.encode(text))\n",
    "\t\n",
    "\thitchhikers_guide = PyMuPDFLoader(\n",
    "\t\t\"https://www.deyeshigh.co.uk/downloads/literacy/world_book_day/the_hitchhiker_s_guide_to_the_galaxy.pdf\"\n",
    "\t).load()\n",
    "\n",
    "\tchunks = RecursiveCharacterTextSplitter(\n",
    "\t\tchunk_size=200,\n",
    "\t\tchunk_overlap=0,\n",
    "\t\tlength_function=token_len\n",
    "\t).split_documents(hitchhikers_guide)\n",
    "\n",
    "\tvector_store = Qdrant.from_documents(\n",
    "\t\tchunks,\n",
    "\t\tembedding_model,\n",
    "\t\tlocation=\":memory:\",\n",
    "\t\tcollection_name=\"Hitchhiker's Guide To The Galaxy\"\n",
    "\t)\n",
    "\n",
    "\tqdrant_retriever = vector_store.as_retriever()\n",
    "\n",
    "\trag_prompt = ChatPromptTemplate.from_template(\n",
    "\"\"\"\n",
    "CONTEXT:\n",
    "{context}\n",
    "\n",
    "QUERY:\n",
    "{query}\n",
    "\"\"\"\n",
    "\t)\n",
    "\n",
    "\tget_query = itemgetter(\"query\")\n",
    "\n",
    "\trag_qa_chain = (\n",
    "\t\tRunnableParallel(\n",
    "\t\t\t{\"context\": get_query | qdrant_retriever, \"query\": get_query}\n",
    "\t\t) | \n",
    "\t\t{\"response\": rag_prompt | openai_client, \"context\": itemgetter(\"context\")}\n",
    "\t)\n",
    "\n",
    "\tresponse = rag_qa_chain.invoke({\"query\" : \"Where does Arthur Dent meet Marvin?\"})\n",
    "\n",
    "\tprint(response)"
   ]
  },
  {
   "cell_type": "code",
   "execution_count": 10,
   "metadata": {},
   "outputs": [
    {
     "name": "stdout",
     "output_type": "stream",
     "text": [
      "{'response': AIMessage(content='Arthur Dent meets Marvin in a corridor as Marvin trudges on down the corridor, still moaning about the pain in all the diodes down his left-hand side. Arthur walks along beside him, engaging in conversation with Marvin.', additional_kwargs={'refusal': None}, response_metadata={'token_usage': {'completion_tokens': 46, 'prompt_tokens': 1822, 'total_tokens': 1868}, 'model_name': 'gpt-3.5-turbo-0125', 'system_fingerprint': None, 'finish_reason': 'stop', 'logprobs': None}, id='run-4e03165e-ab09-45ba-80ff-13b3a5e395ee-0', usage_metadata={'input_tokens': 1822, 'output_tokens': 46, 'total_tokens': 1868}), 'context': [Document(metadata={'source': 'https://www.deyeshigh.co.uk/downloads/literacy/world_book_day/the_hitchhiker_s_guide_to_the_galaxy.pdf', 'file_path': 'https://www.deyeshigh.co.uk/downloads/literacy/world_book_day/the_hitchhiker_s_guide_to_the_galaxy.pdf', 'page': 160, 'total_pages': 227, 'format': 'PDF 1.3', 'title': \"Hitchhiker's Guide to the Galaxy\", 'author': 'Douglas Adams', 'subject': 'document version 1.0', 'keywords': 'hanomag <01name@iname.com>', 'creator': \"Hitchhiker's Guide to the Galaxy.doc (Preview) - Microsoft Word\", 'producer': 'Acrobat PDFWriter 4.0 for Windows NT', 'creationDate': 'D:20010213123949', 'modDate': \"D:20010213124359-08'00'\", 'trapped': '', 'encryption': 'Standard V1 R2 40-bit RC4', '_id': '279316fcadad448bbfaf4cd5ea5600d4', '_collection_name': \"Hitchhiker's Guide To The Galaxy\"}, page_content='being lame, which he wasn\\'t.  \"On second thoughts,\" said the old \\nman, \"leave it here.  You must come with me.  Great things are \\nafoot.\" He turned towards his craft which, though no apparent \\nsignal had been given, now drifted quietly towards them through \\nthe dark. \\nArthur looked down at Marvin, who now made an equally big \\nshow of turning round laboriously and trudging off down into \\nthe crater again muttering sour nothings to himself. \\n\"Come,\" called the old man, \"come now or you will be late.\" \\n\"Late?\" said Arthur.  \"What for?\" \\n\"What is your name, human?\" \\n\"Dent.  Arthur Dent,\" said Arthur. \\n\"Late, as in t\\nhe late Dentarthurdent,\" said the old man, sternly.'), Document(metadata={'source': 'https://www.deyeshigh.co.uk/downloads/literacy/world_book_day/the_hitchhiker_s_guide_to_the_galaxy.pdf', 'file_path': 'https://www.deyeshigh.co.uk/downloads/literacy/world_book_day/the_hitchhiker_s_guide_to_the_galaxy.pdf', 'page': 107, 'total_pages': 227, 'format': 'PDF 1.3', 'title': \"Hitchhiker's Guide to the Galaxy\", 'author': 'Douglas Adams', 'subject': 'document version 1.0', 'keywords': 'hanomag <01name@iname.com>', 'creator': \"Hitchhiker's Guide to the Galaxy.doc (Preview) - Microsoft Word\", 'producer': 'Acrobat PDFWriter 4.0 for Windows NT', 'creationDate': 'D:20010213123949', 'modDate': \"D:20010213124359-08'00'\", 'trapped': '', 'encryption': 'Standard V1 R2 40-bit RC4', '_id': 'fa35634ebb9d4da2aa87ee53866c70da', '_collection_name': \"Hitchhiker's Guide To The Galaxy\"}, page_content='108  / D O U G L A S  A D A M S  \\nMarvin trudged on down the corridor, still moaning. \\n\"...  and then of course I\\'ve got this terrible pain in all the diodes \\ndown my left hand side ...\" \\n\"No?\" said Arthur grimly as he walked along beside him.  \\n\"Really?\" \\n\"Oh yes,\" said Marvin, \"I mean I\\'ve asked for them to be replaced \\nbut no one ever listens.\" \\n\"I can imagine.\" \\nVague whistling and humming noises were coming from Ford.  \\n\"Well well well,\" he kept saying to himself, \"Zaphod Beeblebrox \\n...\" \\nSuddenly Marvin stopped, and held up a hand. \\n\"You know what\\'s happened now of course?\" \\n\"No, what?\" said Arthur, who didn\\'t what to know.'), Document(metadata={'source': 'https://www.deyeshigh.co.uk/downloads/literacy/world_book_day/the_hitchhiker_s_guide_to_the_galaxy.pdf', 'file_path': 'https://www.deyeshigh.co.uk/downloads/literacy/world_book_day/the_hitchhiker_s_guide_to_the_galaxy.pdf', 'page': 16, 'total_pages': 227, 'format': 'PDF 1.3', 'title': \"Hitchhiker's Guide to the Galaxy\", 'author': 'Douglas Adams', 'subject': 'document version 1.0', 'keywords': 'hanomag <01name@iname.com>', 'creator': \"Hitchhiker's Guide to the Galaxy.doc (Preview) - Microsoft Word\", 'producer': 'Acrobat PDFWriter 4.0 for Windows NT', 'creationDate': 'D:20010213123949', 'modDate': \"D:20010213124359-08'00'\", 'trapped': '', 'encryption': 'Standard V1 R2 40-bit RC4', '_id': '0a3d9ea1e64042618840988ddb861409', '_collection_name': \"Hitchhiker's Guide To The Galaxy\"}, page_content='\"I\\'m sure we can come to some arrangement,\" said Ford.  \"Excuse \\nme!\" he shouted. \\nMr Prosser (who was arguing with a spokesman for the bulldozer \\ndrivers about whether or not Arthur Dent constituted a mental \\nhealth hazard, and how much they should get paid if he did) \\nlooked around.  He was surprised and slightly alarmed to find \\nthat Arthur had company. \\n\"Yes? Hello?\" he called.  \"Has Mr Dent come to his senses yet?\" \\n\"Can we for the moment,\" called Ford, \"assume that he hasn\\'t?\" \\n\"Well?\" sighed Mr Prosser.'), Document(metadata={'source': 'https://www.deyeshigh.co.uk/downloads/literacy/world_book_day/the_hitchhiker_s_guide_to_the_galaxy.pdf', 'file_path': 'https://www.deyeshigh.co.uk/downloads/literacy/world_book_day/the_hitchhiker_s_guide_to_the_galaxy.pdf', 'page': 11, 'total_pages': 227, 'format': 'PDF 1.3', 'title': \"Hitchhiker's Guide to the Galaxy\", 'author': 'Douglas Adams', 'subject': 'document version 1.0', 'keywords': 'hanomag <01name@iname.com>', 'creator': \"Hitchhiker's Guide to the Galaxy.doc (Preview) - Microsoft Word\", 'producer': 'Acrobat PDFWriter 4.0 for Windows NT', 'creationDate': 'D:20010213123949', 'modDate': \"D:20010213124359-08'00'\", 'trapped': '', 'encryption': 'Standard V1 R2 40-bit RC4', '_id': '99db4bd9217c49eba6a771567c32c5e7', '_collection_name': \"Hitchhiker's Guide To The Galaxy\"}, page_content='12  /  D O U G L A S  A D A M S  \\nfrom a small planet in the vicinity of Betelgeuse and not from \\nGuildford as he usually claimed. \\nArthur Dent had never, ever suspected this. \\nThis friend of his had first arrived on the planet some fifteen \\nEarth years previously, and he had worked hard to blend himself \\ninto Earth society - with, it must be said, some success.  For \\ninstance he had spent those fifteen years pretending to be an out \\nof work actor, which was plausible enough. \\nHe had made one careless blunder though, because he had \\nskimped a bit on his preparatory research.  The information he \\nhad gathered had led him to choose the name \"Ford Prefect\" as \\nbeing nicely inconspicuous. \\nHe was not conspicuously tall, his features were striking but not')]}\n"
     ]
    }
   ],
   "source": [
    "\n",
    "from langchain_core.tracers.context import tracing_v2_enabled\n",
    "from uuid import uuid4\n",
    "\n",
    "if __name__ == \"__main__\":\n",
    "\twith tracing_v2_enabled(project_name=f\"Suds Ai - LangGraph - {uuid4().hex[0:8]}\", client=langsmith_client):\n",
    "\t\tmain()"
   ]
  }
 ],
 "metadata": {
  "kernelspec": {
   "display_name": "suds_ai-AELnUEyN",
   "language": "python",
   "name": "python3"
  },
  "language_info": {
   "codemirror_mode": {
    "name": "ipython",
    "version": 3
   },
   "file_extension": ".py",
   "mimetype": "text/x-python",
   "name": "python",
   "nbconvert_exporter": "python",
   "pygments_lexer": "ipython3",
   "version": "3.12.4"
  }
 },
 "nbformat": 4,
 "nbformat_minor": 2
}
