{
 "cells": [
  {
   "cell_type": "code",
   "execution_count": 52,
   "metadata": {},
   "outputs": [
    {
     "name": "stdout",
     "output_type": "stream",
     "text": [
      "Note: you may need to restart the kernel to use updated packages.\n",
      "Note: you may need to restart the kernel to use updated packages.\n",
      "Note: you may need to restart the kernel to use updated packages.\n"
     ]
    }
   ],
   "source": [
    "# Installations\n",
    "\n",
    "%pip install --upgrade pip -q\n",
    "%pip install python-dotenv -q\n",
    "\n",
    "%pip install langchain langchain_openai langgraph duckduckgo-search -q"
   ]
  },
  {
   "cell_type": "code",
   "execution_count": 53,
   "metadata": {},
   "outputs": [],
   "source": [
    "from dotenv import dotenv_values\n",
    "\n",
    "environment_secrets = dotenv_values(\"../.env\")"
   ]
  },
  {
   "cell_type": "code",
   "execution_count": 54,
   "metadata": {},
   "outputs": [],
   "source": [
    "\n",
    "from langchain_openai import ChatOpenAI\n",
    "from pydantic.v1 import SecretStr\n",
    "\n",
    "openai_api_key = environment_secrets[\"OPENAI_API_KEY\"]\n",
    "\n",
    "assert openai_api_key != None, \"OpenAI Api Key not found!\"\n",
    "\n",
    "openai_client = ChatOpenAI(\n",
    "    api_key=SecretStr(openai_api_key)\n",
    ")"
   ]
  },
  {
   "cell_type": "code",
   "execution_count": 55,
   "metadata": {},
   "outputs": [],
   "source": [
    "from langchain_community.tools.ddg_search import DuckDuckGoSearchRun\n",
    "from langchain_core.tools import tool\n",
    "\n",
    "tools = [\n",
    "    DuckDuckGoSearchRun()\n",
    "]\n",
    "\n",
    "openai_client = openai_client.bind_tools(tools)"
   ]
  },
  {
   "cell_type": "code",
   "execution_count": 56,
   "metadata": {},
   "outputs": [],
   "source": [
    "from langgraph.graph import END, StateGraph, MessagesState\n",
    "from langgraph.prebuilt import ToolNode\n",
    "from langchain_core.messages import HumanMessage, SystemMessage\n",
    "from uuid import uuid4\n",
    "\n",
    "def converse(state: MessagesState) -> MessagesState:\n",
    "    return {\n",
    "        \"messages\": [\n",
    "            openai_client.invoke(state[\"messages\"])\n",
    "\t\t]\n",
    "\t}\n",
    "\n",
    "def decide(state: MessagesState) -> str:\n",
    "\tlatest_message = state[\"messages\"][-1]\n",
    "\n",
    "\tprint(latest_message)\n",
    "\n",
    "\treturn (\n",
    "\t\t\"tools\" if \n",
    "\t\t(\n",
    "\t\t\ttool_calls := getattr(latest_message, \"tool_calls\", None)\n",
    "\t\t) != None and \n",
    "\t\tlen(tool_calls) >= 1 else \n",
    "\t\tEND\n",
    "\t)\n",
    "\n",
    "def main():\n",
    "\tagent_flow = StateGraph(MessagesState)\n",
    "\n",
    "\tagent_flow.add_node(\"converse\", converse)\n",
    "\tagent_flow.add_node(\"decide\", decide)\n",
    "\tagent_flow.add_node(\"tools\", ToolNode(tools))\n",
    "\n",
    "\tagent_flow.set_entry_point(\"converse\")\n",
    "\tagent_flow.add_conditional_edges(\n",
    "\t\t\"converse\",\n",
    "\t\tdecide\n",
    "\t)\n",
    "\tagent_flow.add_edge(\"tools\", \"converse\")\n",
    "\n",
    "\tagent = agent_flow.compile()\n",
    "\n",
    "\tthread_id = uuid4().int\n",
    "\n",
    "\tresponse = agent.invoke(\n",
    "\t\t{\n",
    "\t\t\t\"messages\": [\n",
    "\t\t\t\tSystemMessage(content=\"If you do not know the answer to a question, try calling a tool. If you called a tool, include quotes from your sources to show proof.\"),\n",
    "\t\t\t\tHumanMessage(content=\"What is the temperature right now in Silang, Cavite, Philippines?\")\n",
    "\t\t\t]\n",
    "\t\t},\n",
    "\t\tconfig={\"configurable\": {\"conversation_id\": thread_id}}\n",
    "\t)\n",
    "\n",
    "\tprint(response)"
   ]
  },
  {
   "cell_type": "code",
   "execution_count": 57,
   "metadata": {},
   "outputs": [
    {
     "name": "stdout",
     "output_type": "stream",
     "text": [
      "content='' additional_kwargs={'tool_calls': [{'id': 'call_PlYQqLzEPE2JdWXywGuehrHi', 'function': {'arguments': '{\"query\":\"current temperature in Silang, Cavite, Philippines\"}', 'name': 'duckduckgo_search'}, 'type': 'function'}], 'refusal': None} response_metadata={'token_usage': {'completion_tokens': 26, 'prompt_tokens': 122, 'total_tokens': 148}, 'model_name': 'gpt-3.5-turbo-0125', 'system_fingerprint': None, 'finish_reason': 'tool_calls', 'logprobs': None} id='run-143e2304-9c2d-46ba-ac2e-43475442b306-0' tool_calls=[{'name': 'duckduckgo_search', 'args': {'query': 'current temperature in Silang, Cavite, Philippines'}, 'id': 'call_PlYQqLzEPE2JdWXywGuehrHi', 'type': 'tool_call'}] usage_metadata={'input_tokens': 122, 'output_tokens': 26, 'total_tokens': 148}\n",
      "content='The current temperature in Silang, Cavite, Philippines is 26°C (78.8°F), with a felt air temperature of 30°C (86°F) due to the relative humidity.' additional_kwargs={'refusal': None} response_metadata={'token_usage': {'completion_tokens': 41, 'prompt_tokens': 423, 'total_tokens': 464}, 'model_name': 'gpt-3.5-turbo-0125', 'system_fingerprint': None, 'finish_reason': 'stop', 'logprobs': None} id='run-b5261b94-0559-4a5e-9934-bb0c1e394850-0' usage_metadata={'input_tokens': 423, 'output_tokens': 41, 'total_tokens': 464}\n",
      "{'messages': [SystemMessage(content='If you do not know the answer to a question, try calling a tool. If you called a tool, include quotes from your sources to show proof.', id='8d358e3e-ba2e-4447-92bb-8ec58007bf4a'), HumanMessage(content='What is the temperature right now in Silang, Cavite, Philippines?', id='472499d6-575b-4f6b-bd79-849ee24ebd65'), AIMessage(content='', additional_kwargs={'tool_calls': [{'id': 'call_PlYQqLzEPE2JdWXywGuehrHi', 'function': {'arguments': '{\"query\":\"current temperature in Silang, Cavite, Philippines\"}', 'name': 'duckduckgo_search'}, 'type': 'function'}], 'refusal': None}, response_metadata={'token_usage': {'completion_tokens': 26, 'prompt_tokens': 122, 'total_tokens': 148}, 'model_name': 'gpt-3.5-turbo-0125', 'system_fingerprint': None, 'finish_reason': 'tool_calls', 'logprobs': None}, id='run-143e2304-9c2d-46ba-ac2e-43475442b306-0', tool_calls=[{'name': 'duckduckgo_search', 'args': {'query': 'current temperature in Silang, Cavite, Philippines'}, 'id': 'call_PlYQqLzEPE2JdWXywGuehrHi', 'type': 'tool_call'}], usage_metadata={'input_tokens': 122, 'output_tokens': 26, 'total_tokens': 148}), ToolMessage(content=\"Everything you need to know about today's weather in Silang, Cavite, Philippines. High/Low, Precipitation Chances, Sunrise/Sunset, and today's Temperature History. Today's and tonight's Silang, Cavite, Philippines weather forecast, weather conditions and Doppler radar from The Weather Channel,weather forecast Silang 10 day next and 48 hourly Silang. Silang Weather Forecast. Providing a local hourly Silang weather forecast of rain, sun, wind, humidity and temperature. The Long-range 12 day forecast also includes detail for Silang weather today. Live weather reports from Silang weather stations and weather warnings that include risk of thunder, high UV index and forecast gales. In Silang, at the moment, it is raining. The temperature is a moderately hot 26°C (78.8°F), while the felt air temperature, which takes the relative humidity and factors it into the air temperature reading, is evaluated at a hot 30°C (86°F). The current temperature is near the lowest predicted 24°C (75.2°F) for today. Silang, Cavite, Philippines's afternoon weather forecast for today and the next 15 days. Includes the high, RealFeel, precipitation, sunrise & sunset times, as well as historical weather for that ...\", name='duckduckgo_search', id='58bcbc41-6b12-45e3-a321-50f7804b3b32', tool_call_id='call_PlYQqLzEPE2JdWXywGuehrHi'), AIMessage(content='The current temperature in Silang, Cavite, Philippines is 26°C (78.8°F), with a felt air temperature of 30°C (86°F) due to the relative humidity.', additional_kwargs={'refusal': None}, response_metadata={'token_usage': {'completion_tokens': 41, 'prompt_tokens': 423, 'total_tokens': 464}, 'model_name': 'gpt-3.5-turbo-0125', 'system_fingerprint': None, 'finish_reason': 'stop', 'logprobs': None}, id='run-b5261b94-0559-4a5e-9934-bb0c1e394850-0', usage_metadata={'input_tokens': 423, 'output_tokens': 41, 'total_tokens': 464})]}\n"
     ]
    }
   ],
   "source": [
    "from langchain_core.tracers.context import tracing_v2_enabled\n",
    "from langsmith import Client\n",
    "\n",
    "from uuid import uuid4\n",
    "\n",
    "langsmith_client = Client(api_key=environment_secrets[\"LANGSMITH_API_KEY\"])\n",
    "\n",
    "if __name__ == \"__main__\":\n",
    "\twith tracing_v2_enabled(project_name=f\"Suds Ai - LangGraph - {uuid4().hex[0:8]}\", client=langsmith_client):\n",
    "\t\tmain()"
   ]
  }
 ],
 "metadata": {
  "kernelspec": {
   "display_name": "suds_ai-AELnUEyN",
   "language": "python",
   "name": "python3"
  },
  "language_info": {
   "codemirror_mode": {
    "name": "ipython",
    "version": 3
   },
   "file_extension": ".py",
   "mimetype": "text/x-python",
   "name": "python",
   "nbconvert_exporter": "python",
   "pygments_lexer": "ipython3",
   "version": "3.12.4"
  }
 },
 "nbformat": 4,
 "nbformat_minor": 2
}
