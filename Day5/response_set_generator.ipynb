{
 "cells": [
  {
   "cell_type": "code",
   "execution_count": 33,
   "metadata": {},
   "outputs": [
    {
     "name": "stdout",
     "output_type": "stream",
     "text": [
      "Note: you may need to restart the kernel to use updated packages.\n",
      "Note: you may need to restart the kernel to use updated packages.\n",
      "Note: you may need to restart the kernel to use updated packages.\n",
      "Note: you may need to restart the kernel to use updated packages.\n"
     ]
    }
   ],
   "source": [
    "# Installations\n",
    "\n",
    "%pip install --upgrade pip -q\n",
    "%pip install python-dotenv -q\n",
    "\n",
    "%pip install langchain langchain-core -q\n",
    "\n",
    "%pip install pandas -q"
   ]
  },
  {
   "cell_type": "code",
   "execution_count": 34,
   "metadata": {},
   "outputs": [],
   "source": [
    "from dotenv import dotenv_values\n",
    "\n",
    "environment_secrets = dotenv_values(\"../.env\")"
   ]
  },
  {
   "cell_type": "code",
   "execution_count": 35,
   "metadata": {},
   "outputs": [],
   "source": [
    "from langsmith import Client\n",
    "\n",
    "langsmith_client = Client(api_key=environment_secrets[\"LANGSMITH_API_KEY\"])"
   ]
  },
  {
   "cell_type": "code",
   "execution_count": 38,
   "metadata": {},
   "outputs": [],
   "source": [
    "from functools import reduce\n",
    "\n",
    "from pandas import read_csv\n",
    "from datasets import Dataset\n",
    "\n",
    "from rag_qa_chain import build_chain\n",
    "from typing import Any\n",
    "\n",
    "from pprint import pprint\n",
    "\n",
    "from json import dump, load\n",
    "\n",
    "def main():\n",
    "\topenai_api_key = environment_secrets[\"OPENAI_API_KEY\"] \n",
    "\tassert openai_api_key != None\n",
    "\n",
    "\ttest_set = read_csv(\"./test_set.csv\")\n",
    "\ttest_questions: list[str] = test_set[\"question\"].values.tolist()\n",
    "\ttest_ground_truths: list[str] = test_set[\"ground_truth\"].values.tolist()\n",
    "\n",
    "\trag_qa_chain = build_chain(openai_api_key)\n",
    "\n",
    "\tdef parse_answers_and_context(answers_contexts: dict[str, list[str]], question: str):\n",
    "\t\tresponse = rag_qa_chain.invoke({\"query\": question})\n",
    "\t\tanswers_contexts[\"answer\"].append(response[\"response\"].content)\n",
    "\t\tanswers_contexts[\"contexts\"].append([context.page_content for context in response[\"context\"]])\n",
    "\t\treturn answers_contexts\n",
    "\n",
    "\t# def transform(mapping: dict[str, list[Any]]) -> list[dict[str, Any]]:\n",
    "\t# \tcolumn_names = mapping.keys()\n",
    "\n",
    "\t# \treturn [\n",
    "\t# \t\t{column_name: value for column_name, value in zip(column_names, row)} for \n",
    "\t# \t\trow in \n",
    "\t# \t\tzip(*(mapping[column_name] for column_name in column_names))\n",
    "\t# \t]\n",
    "\n",
    "\t# with open(\"./response_set.json\") as response_set_file:\n",
    "\t# \tresponse_set: dict[str, Any] = load(response_set_file)\n",
    "    \n",
    "\t# response_set[\"contexts\"] = [\",\".join(contexts) for contexts in response_set[\"contexts\"]]\n",
    "\n",
    "\tdataset = Dataset.from_dict({\n",
    "\t\t\"question\" : test_questions,\n",
    "\t\t**reduce(\n",
    "\t\t\tparse_answers_and_context,\n",
    "\t\t\ttest_questions,\n",
    "\t\t\t{\n",
    "\t\t\t\t\"answer\": [],\n",
    "\t\t\t\t\"contexts\": []\n",
    "\t\t\t}\n",
    "\t\t),\n",
    "\t\t\"ground_truth\": test_ground_truths\n",
    "\t})\n",
    "\n",
    "\tdataset.to_csv(\"response_set.csv\")\n"
   ]
  },
  {
   "cell_type": "code",
   "execution_count": 39,
   "metadata": {},
   "outputs": [
    {
     "name": "stderr",
     "output_type": "stream",
     "text": [
      "Creating CSV from Arrow format: 100%|██████████| 1/1 [00:00<00:00, 13.09ba/s]\n"
     ]
    }
   ],
   "source": [
    "\n",
    "from langchain_core.tracers.context import tracing_v2_enabled\n",
    "from uuid import uuid4\n",
    "\n",
    "if __name__ == \"__main__\":\n",
    "\twith tracing_v2_enabled(project_name=f\"Suds Ai - LangGraph - {uuid4().hex[0:8]}\", client=langsmith_client):\n",
    "\t\tmain()"
   ]
  }
 ],
 "metadata": {
  "kernelspec": {
   "display_name": "suds_ai-AELnUEyN",
   "language": "python",
   "name": "python3"
  },
  "language_info": {
   "codemirror_mode": {
    "name": "ipython",
    "version": 3
   },
   "file_extension": ".py",
   "mimetype": "text/x-python",
   "name": "python",
   "nbconvert_exporter": "python",
   "pygments_lexer": "ipython3",
   "version": "3.12.4"
  }
 },
 "nbformat": 4,
 "nbformat_minor": 2
}
